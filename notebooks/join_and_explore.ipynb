{
 "cells": [
  {
   "cell_type": "code",
   "execution_count": 18,
   "metadata": {
    "collapsed": false
   },
   "outputs": [
    {
     "name": "stdout",
     "output_type": "stream",
     "text": [
      "The autoreload extension is already loaded. To reload it, use:\n",
      "  %reload_ext autoreload\n"
     ]
    }
   ],
   "source": [
    "%load_ext autoreload\n",
    "%autoreload 2\n",
    "%matplotlib inline\n",
    "import scipy.stats as ss\n",
    "import pandas as pd\n",
    "import numpy as np\n",
    "import csv\n",
    "from glob import glob\n",
    "from collections import OrderedDict\n",
    "from operator import itemgetter\n",
    "from IPython.display import display, HTML, display_html\n",
    "import seaborn as sns\n",
    "import matplotlib.pyplot as plt\n",
    "from math import sqrt\n",
    "from itertools import combinations\n",
    "import copy\n",
    "\n",
    "# enable loading of code in a sibling directory\n",
    "import sys, os\n",
    "module_path = os.path.abspath(os.path.join('..'))\n",
    "if module_path not in sys.path:\n",
    "    sys.path.append(module_path)\n",
    "\n",
    "from src.stats_utils import cohens_d, sample_power_difftest"
   ]
  },
  {
   "cell_type": "code",
   "execution_count": 2,
   "metadata": {
    "collapsed": false
   },
   "outputs": [],
   "source": [
    "# find the original survey questions and results in polldaddy here:\n",
    "# https://polldaddy.com/share/s1b1f2c472f913a1c2ca1286a2aa149831690449564\n",
    "# with the password: SmECUuiIhT_ij\n",
    "\n",
    "# bring in the employment data from http://www.maine.gov/labor/cwri/qcew1.html\n",
    "filename = '../data/processed/Edited_Survey_Data_Master.csv'\n",
    "ans = pd.read_csv(filename, skiprows=[0,1], sep='|', dtype={'Q3_Response': np.str, 'School ID': np.int})\n",
    "ans['School'] = ans['School'].str.lower()\n",
    "ans['TOWN'] = ans['TOWN'].str.lower()\n",
    "\n",
    "mc_questions = [1, 2, 3, 5, 9, 11, 12, 13, 14, 17]\n",
    "\n",
    "for q in mc_questions:\n",
    "    column = 'Q{}_Response'.format(q)\n",
    "    ans[column].fillna('Other', inplace=True)\n",
    "\n",
    "filename = '../data/processed/Edited_Survey_Data_Questions.csv'\n",
    "qus = pd.read_csv(filename, sep='|')\n",
    "\n",
    "filename = '../data/processed/Per_Pupil_Expenditures_April2016.xlsx'\n",
    "xl2 = pd.ExcelFile(filename)\n",
    "ppe = xl2.parse('Sheet1', skiprows=[0,1])\n",
    "\n",
    "# number of teachers in each district\n",
    "filename = '../data/external/student_techer_ratio_by_school_2014.csv'\n",
    "teach = pd.read_csv(filename, sep='|', dtype={'st_ratio': np.float}, na_values='-')\n",
    "teach['School'] = teach['School'].str.lower()\n",
    "\n",
    "# free_and_reduced_lunch.xlsx\n",
    "filename = '../data/raw/free_and_reduced_lunch.csv'\n",
    "lunch = pd.read_csv(filename, sep='|')\n",
    "\n",
    "# 2014 Graduation rates\n",
    "filename = '../data/external/maine_graduation_rates_2014.csv'\n",
    "grad = pd.read_csv(filename, sep='|', dtype={'Graduation Rate': np.float}, na_values='**')\n",
    "\n",
    "# 201enrollment by grade\n",
    "filename = '../data/external/enrollment_counts_by_school_2015.csv'\n",
    "grade = pd.read_csv(filename, sep='|', dtype={'School ID': np.int}, na_values='0')\n",
    "grade['School'] = grade['School'].str.lower()\n",
    "\n",
    "# Maine town and county info\n",
    "filename = '../data/external/metowns_centroids.csv'\n",
    "geo = pd.read_csv(filename, sep=',')\n",
    "geo['TOWN'] = geo['TOWN'].str.lower()\n",
    "\n"
   ]
  },
  {
   "cell_type": "code",
   "execution_count": 3,
   "metadata": {
    "collapsed": false
   },
   "outputs": [
    {
     "name": "stdout",
     "output_type": "stream",
     "text": [
      "[]\n"
     ]
    }
   ],
   "source": [
    "answer_sau = set(ans['TOWN'].tolist())\n",
    "ppe_sau = set(geo['TOWN'].tolist())\n",
    "# check to make sure that the sets are the same by asserting\n",
    "# that the symmetric difference between these sets is empty\n",
    "print sorted(list(answer_sau - ppe_sau))"
   ]
  },
  {
   "cell_type": "code",
   "execution_count": 4,
   "metadata": {
    "collapsed": false,
    "scrolled": false
   },
   "outputs": [],
   "source": [
    "# combine the survey data with expense per pupil and ...\n",
    "df = pd.merge(ans, ppe, on='SAU', how='left')\n",
    "# numbers of teachers\n",
    "df = pd.merge(df, teach, on='School', how='left')\n",
    "# merge in the free/reduced lunch numbers\n",
    "df = pd.merge(df, lunch, on='SAU', how='left')\n",
    "# merge in the graduation rate numbers\n",
    "df = pd.merge(df, grad, on='SAU', how='left')\n",
    "# merge in the school enrollment numbers\n",
    "df = pd.merge(df, grade, on='School ID', how='left')\n",
    "# the grade dataframe merge messes up the \"School\" column name\n",
    "df.rename(columns={'School_x': 'School', 'SAU_x': 'SAU'}, inplace=True)\n",
    "# merge in the geography data\n",
    "df = pd.merge(df, geo, on='TOWN', how='left')\n"
   ]
  },
  {
   "cell_type": "code",
   "execution_count": 5,
   "metadata": {
    "collapsed": false
   },
   "outputs": [],
   "source": [
    "# make a list of which are high schools, and which are not\n",
    "# a school is considered a high school if it contains 9, 10, 11, and 12th grades\n",
    "high_schools = grade.ix[\n",
    "    (grade['G9'].notnull()),\n",
    "    :\n",
    "]['School'].values\n",
    "\n",
    "elementary_only_schools = grade.ix[\n",
    "    (grade['G9'].isnull()),\n",
    "    :\n",
    "]['School'].values\n",
    "\n",
    "high_school_saus = grade.ix[\n",
    "    (grade['G9'].notnull()),\n",
    "    :\n",
    "]['SAU'].values\n",
    "\n",
    "elementary_only_school_saus = grade.ix[\n",
    "    (grade['G9'].isnull()),\n",
    "    :\n",
    "]['SAU'].values\n",
    "\n",
    "all_saus = grade['SAU'].unique()\n"
   ]
  },
  {
   "cell_type": "code",
   "execution_count": 6,
   "metadata": {
    "collapsed": false,
    "scrolled": true
   },
   "outputs": [],
   "source": [
    "# data frame this just the highschools\n",
    "hs = df.ix[(df['Q22_Response'].str.contains(\"9, 10, 11, 12\")), :]\n",
    "# ['SAU', 'SAU ID', 'School', 'School ID', 'Q22_Response', 'Secondary_Pupils', 'Secondary_Cost_per_Pupil']"
   ]
  },
  {
   "cell_type": "code",
   "execution_count": 8,
   "metadata": {
    "collapsed": false
   },
   "outputs": [],
   "source": [
    "def get_options(df, column):\n",
    "    \n",
    "    # get all of the options (first we have to split the \n",
    "    # comma separated options for the multiple choice questions)\n",
    "    responses = df[column].unique()\n",
    "    options = set()\n",
    "    \n",
    "    for response in responses:\n",
    "        options.update(response.split(', '))\n",
    "        \n",
    "    return sorted(list(options))\n",
    "\n",
    "def expenditure_contigency_table(df, question):\n",
    "    \n",
    "    column = 'Q{}_Response'.format(question)\n",
    "    \n",
    "    options = get_options(question)\n",
    "    \n",
    "    # this is for holding the contingency table\n",
    "    table = [bin_columns]\n",
    "    \n",
    "    for option in options:\n",
    "        \n",
    "        # some response otions were replaced with \"Other\"\n",
    "        # so a different test is needed for those\n",
    "        if option == 'Other':\n",
    "            option_test = (df[column].isnull())\n",
    "        else:\n",
    "            option_test = (df[column].str.contains(option))\n",
    "        \n",
    "        row = []\n",
    "        \n",
    "        bin_start = bins[0]\n",
    "        \n",
    "        # bins are defined along with the histogram \n",
    "        for bin_end in bins[1:]:\n",
    "\n",
    "            expenses = hs.ix[option_test & \n",
    "                             (df['Secondary_Cost_per_Pupil'].notnull()) &\n",
    "                             (df['Secondary_Cost_per_Pupil'] > bin_start) &\n",
    "                             (df['Secondary_Cost_per_Pupil'] <= bin_end),\n",
    "                             ['Secondary_Cost_per_Pupil']\n",
    "                            ].values\n",
    "            \n",
    "            row.append(len(expenses))\n",
    "            \n",
    "            # reset the start of the bin\n",
    "            bin_start = bin_end\n",
    "        row.append(sum(row))\n",
    "        row.insert(0, option)\n",
    "        table.append(row)\n",
    "    totals = tested_sum(table[1:])\n",
    "    table.append(totals)\n",
    "    return table\n",
    "    \n",
    "def columns_contingency_table(df, columns, ranges=None, multiple_choice=[0,0]):\n",
    "    \"\"\"\n",
    "    :param df: pandas DataFrame\n",
    "    :param columns: a list or tuple of column headers\n",
    "    :param ranges: dictionary\n",
    "            ranges={'col_name':\n",
    "                        'bins': [],\n",
    "                        'labels': []\n",
    "                    }\n",
    "    \"\"\"\n",
    "\n",
    "    if ranges is not None:\n",
    "        # if there is a range, then those data will go in the column headings\n",
    "        if len(ranges.keys()) == 1:\n",
    "            column2 = ranges.keys()[0]\n",
    "            col_options = ranges[column2]['labels']\n",
    "            col_headers = copy.copy(col_options)\n",
    "\n",
    "            # do this to find the column name that's not in the ranges dictionary\n",
    "            column1 = [v for v in columns if v != column2][0]\n",
    "            row_options = get_options(df, column1)\n",
    "\n",
    "        # if there are two ranges, then they are (rows, columns)\n",
    "        elif len(ranges.keys()) == 2:\n",
    "            column1 = columns[0]\n",
    "            column2 = columns[1]\n",
    "            row_options = ranges[column1]['labels']\n",
    "            col_options = ranges[column2]['labels']\n",
    "            col_headers = copy.copy(col_options)\n",
    "\n",
    "    # in this case we don't have ranges\n",
    "    else:\n",
    "\n",
    "        column1 = columns[0]\n",
    "        column2 = columns[1]\n",
    "\n",
    "        row_options = get_options(df, column1)\n",
    "        col_options = get_options(df, column2)\n",
    "        col_headers = copy.copy(col_options)\n",
    "        \n",
    "    # add the extra bits to the headers list\n",
    "    col_headers.insert(0, '')\n",
    "    col_headers.append('total')\n",
    "\n",
    "    table = [col_headers]\n",
    "\n",
    "    for idx, row_option in enumerate(row_options):\n",
    "\n",
    "        if multiple_choice[0]:\n",
    "            row_option_test = (df[column1].str.contains(row_option))\n",
    "        else:\n",
    "            row_option_test = (df[column1] == row_option)\n",
    "        \n",
    "        # supersede the row option test if the following are both true\n",
    "        if ranges is not None:\n",
    "            if len(ranges.keys()) == 2:\n",
    "                bin_start_test = (df[column1] > ranges[column1]['bins'][idx][0])\n",
    "                bin_end_test = (df[column1] <= ranges[column1]['bins'][idx][1])\n",
    "\n",
    "                row_option_test = bin_start_test & bin_end_test\n",
    "\n",
    "        row = []\n",
    "\n",
    "        # bins are defined along with the histogram\n",
    "        for jdx, col_option in enumerate(col_options):\n",
    "\n",
    "            if ranges is not None:\n",
    "                bin_start_test = (df[column2] > ranges[column2]['bins'][jdx][0])\n",
    "                bin_end_test = (df[column2] <= ranges[column2]['bins'][jdx][1])\n",
    "\n",
    "                col_option_test = bin_start_test & bin_end_test\n",
    "\n",
    "            else:\n",
    "                if multiple_choice[1]:\n",
    "                    col_option_test = (df[column2].str.contains(col_option))\n",
    "                else:\n",
    "                    col_option_test = (df[column2] == col_option)\n",
    "\n",
    "            # get the row counts for this set of two-column conditions\n",
    "            counts = df.ix[row_option_test & col_option_test, :].values\n",
    "\n",
    "            row.append(len(counts))\n",
    "\n",
    "        row.append(sum(row))\n",
    "        row.insert(0, row_option)\n",
    "        table.append(row)\n",
    "\n",
    "    # add a column sum row\n",
    "    totals = tested_sum(table[1:])\n",
    "    table.append(totals)\n",
    "    return table\n",
    "\n",
    "\n",
    "def contingency_table(lst):\n",
    "    first = True\n",
    "    html = [\"<table>\"]\n",
    "    for row in lst:\n",
    "        html.append(\"<tr>\")\n",
    "        for val in row:\n",
    "            if first:\n",
    "                html.append(\"<th>{0}</th>\".format(val))\n",
    "            else:\n",
    "                html.append(\"<td>{0}</td>\".format(val))\n",
    "        html.append(\"</tr>\")\n",
    "        first = False\n",
    "    html.append(\"</table>\")\n",
    "    return ''.join(html)\n",
    "\n",
    "\n",
    "\n",
    "def tested_sum(table):\n",
    "    \"\"\"\n",
    "    return the sum of non-string column values\n",
    "    \"\"\"\n",
    "    totals = []\n",
    "    for x in zip(*table):\n",
    "        try:\n",
    "            s = sum(x)\n",
    "        except TypeError:\n",
    "            s = ''\n",
    "        totals.append(s)\n",
    "    return totals\n",
    "\n",
    "\n",
    "def cramers_v(contingency_table):\n",
    "    \"\"\"\n",
    "    See https://en.wikipedia.org/wiki/Cram%C3%A9r%27s_V for reference\n",
    "    \"\"\"\n",
    "    ct = np.array(contingency_table)\n",
    "    \n",
    "    body = ct[1:-1, 1:-1].astype(int)\n",
    "    row_totals = body.sum(axis=1)\n",
    "    col_totals = body.sum(axis=0)\n",
    "    r, c = body.shape\n",
    "    n = sum(col_totals)\n",
    "    \n",
    "    chi2 = 0\n",
    "    \n",
    "    # skip the first and last rows\n",
    "    for i,row in enumerate(body):\n",
    "        for j, val in enumerate(row):\n",
    "            n_ij = 1.*val\n",
    "            n_i = 1.*row_totals[i]\n",
    "            n_j = 1.*col_totals[j]\n",
    "            try:\n",
    "                chi2 += (n_ij - n_i*n_j/n)**2 / (n_i*n_j/n)\n",
    "            except ZeroDivisionError:\n",
    "                chi2 += 0\n",
    "            \n",
    "    return sqrt((chi2/n)/(min(r-1, c-1)))\n",
    "    "
   ]
  },
  {
   "cell_type": "code",
   "execution_count": 16,
   "metadata": {
    "collapsed": false
   },
   "outputs": [
    {
     "name": "stdout",
     "output_type": "stream",
     "text": [
      "0.357069159632\n"
     ]
    },
    {
     "data": {
      "text/html": [
       "<table><tr><th></th><th>7-8</th><th>8-9</th><th>9-10</th><th>10-11</th><th>11-12</th><th>12-13</th><th>13-14</th><th>14-15</th><th>total</th></tr><tr><td>0</td><td>1</td><td>2</td><td>1</td><td>2</td><td>1</td><td>0</td><td>0</td><td>0</td><td>7</td></tr><tr><td>1-5</td><td>0</td><td>4</td><td>5</td><td>8</td><td>8</td><td>5</td><td>6</td><td>2</td><td>38</td></tr><tr><td>11-15</td><td>0</td><td>0</td><td>0</td><td>1</td><td>1</td><td>2</td><td>4</td><td>3</td><td>11</td></tr><tr><td>15</td><td>0</td><td>0</td><td>0</td><td>0</td><td>1</td><td>2</td><td>1</td><td>0</td><td>4</td></tr><tr><td>6-10</td><td>0</td><td>1</td><td>1</td><td>5</td><td>9</td><td>5</td><td>4</td><td>0</td><td>25</td></tr><tr><td></td><td>1</td><td>7</td><td>7</td><td>16</td><td>20</td><td>14</td><td>15</td><td>5</td><td>85</td></tr></table>"
      ],
      "text/plain": [
       "<IPython.core.display.HTML object>"
      ]
     },
     "execution_count": 16,
     "metadata": {},
     "output_type": "execute_result"
    }
   ],
   "source": [
    "\n",
    "columns = ('Q3_Response', 'st_ratio')\n",
    "values = hs.ix[(hs['st_ratio'].notnull())]['st_ratio'].values\n",
    "hist, bin_edges = np.histogram(values, bins=8)\n",
    "bins = [(bin_edges[i], bin_edges[i+1]) for i in range(len(bin_edges)-1)]\n",
    "labels = ['{0:1.0f}-{1:1.0f}'.format(b[0], b[1]) for b in bins]\n",
    "\n",
    "ranges = {'st_ratio': {'bins': bins, 'labels': labels}}\n",
    "\n",
    "st_table = columns_contingency_table(hs, columns, ranges=ranges)\n",
    "\n",
    "print cramers_v(st_table)\n",
    "HTML(contingency_table(st_table))\n",
    "\n"
   ]
  },
  {
   "cell_type": "code",
   "execution_count": 19,
   "metadata": {
    "collapsed": false
   },
   "outputs": [
    {
     "name": "stdout",
     "output_type": "stream",
     "text": [
      "0.880527847844 3.55495818399\n",
      "7.42592592593 3.87096774194\n",
      "4.46634265762 3.13915887115\n",
      "(4.2343178523803591, 6.1264138059915308e-05)\n",
      "3.4373887488 0.000587351947555\n",
      "# samples needed: 20, # high respoding: 54, # low responding: 31\n"
     ]
    },
    {
     "data": {
      "image/png": "[encoded data removed]",
      "text/plain": [
       "<matplotlib.figure.Figure at 0x7fdb96526550>"
      ]
     },
     "metadata": {},
     "output_type": "display_data"
    }
   ],
   "source": [
    "# Null hypothesis, Ho: there is no difference between the number of incidents \n",
    "# between schools with \"high\" student-teacher ratio versus \"low\" ratio\n",
    "# \"high\": ratio is 10-11 and greater\n",
    "# \"low\": ratio is 9-10 and lower\n",
    "# start by plotting the histograms together\n",
    "\n",
    "# What are all of the incidental things that happen when the S-T ratio is lowered? \n",
    "# It may not be the case that teachers specifically prevent the use of drugs,\n",
    "# but there may well be some other variable that follows (or is followed by) the\n",
    "# ratio which DOES reduce the tendency toward drug use.\n",
    "\n",
    "# reformat the data so that we can plot it\n",
    "counts = np.array(st_table)[1:-1,1:-1].astype(int)\n",
    "low_counts = counts[:,0:4].sum(axis=1)\n",
    "high_counts = counts[:,4:8].sum(axis=1)\n",
    "\n",
    "count_map = {'0':0, '1-5':3, '6-10':8, '11-15':13, '15+':16}\n",
    "\n",
    "options = ['0', '1-5', '11-15', '15+', '6-10']\n",
    "\n",
    "# render the samples\n",
    "low_values = []\n",
    "for idx, lc in enumerate(low_counts):\n",
    "    low_values.extend([count_map[options[idx]]]*lc)\n",
    "    \n",
    "high_values = []\n",
    "for idx, hc in enumerate(high_counts):\n",
    "    high_values.extend([count_map[options[idx]]]*hc)\n",
    "    \n",
    "low_values = np.array(low_values)\n",
    "high_values = np.array(high_values)\n",
    "\n",
    "# effect size is a measure of the difference between two population samples\n",
    "# see: http://www.uccs.edu/lbecker/effect-size.html\n",
    "# generally we consider the difference between sample populations to be \"large\"\n",
    "# if the effect size is greater than 0.8.\n",
    "effect_size = cohens_d(\n",
    "    means=(high_values.mean(), low_values.mean()),\n",
    "    stdevs=(high_values.std(), low_values.std()),\n",
    "    N_samples=(len(high_values), len(low_values))\n",
    ")\n",
    "\n",
    "d = high_values.mean() - low_values.mean()\n",
    "s = high_values.std()\n",
    "required_N = sample_power_difftest(effect_size, s, power=0.8, sig=0.05)\n",
    "\n",
    "\n",
    "print effect_size, d\n",
    "print high_values.mean(), low_values.mean()\n",
    "print high_values.std(), low_values.std()\n",
    "print ss.ttest_ind(high_values, low_values, equal_var=False)\n",
    "z_stat, p_val = ss.ranksums(high_values, low_values)  \n",
    "print z_stat, p_val\n",
    "\n",
    "print '# samples needed: {0}, # high respoding: {1}, # low responding: {2}'.\\\n",
    "format(required_N, len(high_values), len(low_values))\n",
    "\n",
    "fig, ax = plt.subplots(figsize=(8,6))\n",
    "\n",
    "bins = [0, 1, 6, 11, 16, 25]\n",
    "\n",
    "N, bins, patches = ax.hist(high_values, bins=bins, alpha=0.5, label='High S-T Ratio')\n",
    "N, bins, patches = ax.hist(low_values, bins=bins, alpha=0.5, label='Low S-T Ratio')\n",
    "\n",
    "plt.title('Effect of Student-Teacher ratio\\non the number of drug incidents')\n",
    "plt.ylabel('Count of Schools')\n",
    "plt.xlabel('Number of incidents per year')\n",
    "plt.legend()\n",
    "plt.show()"
   ]
  },
  {
   "cell_type": "code",
   "execution_count": 20,
   "metadata": {
    "collapsed": false,
    "scrolled": false
   },
   "outputs": [
    {
     "name": "stdout",
     "output_type": "stream",
     "text": [
      "0.287647358462\n"
     ]
    },
    {
     "data": {
      "text/html": [
       "<table><tr><th></th><th>0</th><th>1-5</th><th>11-15</th><th>15</th><th>6-10</th><th>total</th></tr><tr><td>Between 25 percent and 50 percent</td><td>0</td><td>3</td><td>4</td><td>1</td><td>6</td><td>14</td></tr><tr><td>Between 50 percent and full time</td><td>0</td><td>4</td><td>0</td><td>1</td><td>1</td><td>6</td></tr><tr><td>Full time</td><td>0</td><td>2</td><td>1</td><td>2</td><td>1</td><td>6</td></tr><tr><td>Other</td><td>2</td><td>12</td><td>4</td><td>0</td><td>9</td><td>27</td></tr><tr><td>Under 25 percent</td><td>5</td><td>19</td><td>2</td><td>0</td><td>11</td><td>37</td></tr><tr><td></td><td>7</td><td>40</td><td>11</td><td>4</td><td>28</td><td>90</td></tr></table>"
      ],
      "text/plain": [
       "<IPython.core.display.HTML object>"
      ]
     },
     "execution_count": 20,
     "metadata": {},
     "output_type": "execute_result"
    }
   ],
   "source": [
    "# For each multiple choice question in the survey create a\n",
    "# contingency table to compare against the .\n",
    "columns = ('Q9_Response', 'Q3_Response')\n",
    "table = columns_contingency_table(hs, columns)\n",
    "print cramers_v(table)\n",
    "HTML(contingency_table(table))"
   ]
  },
  {
   "cell_type": "code",
   "execution_count": 21,
   "metadata": {
    "collapsed": false
   },
   "outputs": [
    {
     "data": {
      "image/png": "[encoded data removed]",
      "text/plain": [
       "<matplotlib.figure.Figure at 0x7fdb94cd1bd0>"
      ]
     },
     "metadata": {},
     "output_type": "display_data"
    },
    {
     "name": "stdout",
     "output_type": "stream",
     "text": [
      "[  9060.54  12824.11  16587.68  20351.25  24114.82]\n",
      "['', '9-13K', '13-17K', '17-20K', '20-24K', 'total']\n"
     ]
    }
   ],
   "source": [
    "expenses = hs[hs['Secondary_Cost_per_Pupil'].notnull()]['Secondary_Cost_per_Pupil'].values\n",
    "\n",
    "fig, ax = plt.subplots()\n",
    "Ntotal = 1000\n",
    "N, bins, patches = ax.hist(expenses, 4)\n",
    "\n",
    "# make a rug plot\n",
    "for v in expenses:\n",
    "    ax.plot([v,v], [0,1.5], color='k', linewidth=0.75)\n",
    "    \n",
    "plt.show()\n",
    "\n",
    "bk = [str(int(round(b / 1000))) for b in bins]\n",
    "bin_columns = ['{0}-{1}K'.format(bk[i], bk[i+1]) for i in range(len(bk)-1)]\n",
    "bin_columns.insert(0, '')\n",
    "bin_columns.append('total')\n",
    "print bins\n",
    "print bin_columns"
   ]
  },
  {
   "cell_type": "code",
   "execution_count": 22,
   "metadata": {
    "collapsed": false
   },
   "outputs": [
    {
     "data": {
      "image/png": "[encoded data removed]",
      "text/plain": [
       "<matplotlib.figure.Figure at 0x7fdb656dec10>"
      ]
     },
     "metadata": {},
     "output_type": "display_data"
    },
    {
     "name": "stdout",
     "output_type": "stream",
     "text": [
      "[  6.8      8.9675  11.135   13.3025  15.47  ]\n",
      "['', '0-0K', '0-0K', '0-0K', '0-0K', 'total']\n"
     ]
    }
   ],
   "source": [
    "values = hs[hs['st_ratio'].notnull()]['st_ratio'].values\n",
    "\n",
    "fig, ax = plt.subplots()\n",
    "Ntotal = 1000\n",
    "N, bins, patches = ax.hist(values, 4)\n",
    "\n",
    "# make a rug plot\n",
    "for v in values:\n",
    "    ax.plot([v,v], [0,1.5], color='k', linewidth=0.75)\n",
    "    \n",
    "plt.show()\n",
    "\n",
    "bk = [str(int(round(b / 1000))) for b in bins]\n",
    "bin_columns = ['{0}-{1}K'.format(bk[i], bk[i+1]) for i in range(len(bk)-1)]\n",
    "bin_columns.insert(0, '')\n",
    "bin_columns.append('total')\n",
    "print bins\n",
    "print bin_columns"
   ]
  },
  {
   "cell_type": "code",
   "execution_count": 23,
   "metadata": {
    "collapsed": false,
    "scrolled": true
   },
   "outputs": [
    {
     "name": "stderr",
     "output_type": "stream",
     "text": [
      "/home/jake/projects/.virtualenvs/BDN-data/local/lib/python2.7/site-packages/pandas/core/strings.py:189: UserWarning: This pattern has match groups. To actually get the groups, use str.extract.\n",
      "  \" groups, use str.extract.\", UserWarning)\n"
     ]
    },
    {
     "name": "stdout",
     "output_type": "stream",
     "text": [
      "(3, 10) 0.31684393782\n",
      "(4, 12) 0.327502110432\n",
      "(9, 7) 0.362048676681\n",
      "(9, 8) 0.653428351759\n",
      "(9, 16) 0.388642666438\n",
      "(11, 10) 0.500152601865\n",
      "(12, 17) 0.350565835747\n",
      "(12, 16) 0.33590479492\n",
      "(17, 10) 0.31208160526\n",
      "(17, 16) 0.675938165281\n",
      "(7, 8) 0.322296361372\n",
      "(10, 16) 0.358199180309\n"
     ]
    }
   ],
   "source": [
    "\n",
    "# HTML(contingency_table(table))\n",
    "\n",
    "# let's see how all the questions compare to one another\n",
    "\n",
    "# some questions are just yes, no, NA\n",
    "na = [6, 7, 8, 10, 16]\n",
    "\n",
    "questions = [1, 2, 3, 4, 5, 9, 11, 12, 13, 14, 17]\n",
    "\n",
    "mc_questions = [1, 5, 13, 14, 17]\n",
    "\n",
    "questions.extend(na)\n",
    "\n",
    "for pair in combinations(questions, 2):\n",
    "    \n",
    "    q1, q2 = pair\n",
    "    mc1 = 1 if q1 in mc_questions else 0\n",
    "    mc2 = 1 if q2 in mc_questions else 0\n",
    "    col1 = 'Q{}_Response'.format(q1)\n",
    "    col2 = 'Q{}_Response'.format(q2)\n",
    "    columns = (col1, col2)\n",
    "\n",
    "    table = columns_contingency_table(hs, columns, multiple_choice=[mc1, mc2])\n",
    "    \n",
    "    \n",
    "    \n",
    "    \n",
    "    \n",
    "    v = cramers_v(table)\n",
    "    if v > 0.3:\n",
    "        print pair, cramers_v(table)"
   ]
  },
  {
   "cell_type": "code",
   "execution_count": 24,
   "metadata": {
    "collapsed": false
   },
   "outputs": [
    {
     "name": "stdout",
     "output_type": "stream",
     "text": [
      "0.322296361372\n"
     ]
    },
    {
     "data": {
      "text/html": [
       "<table><tr><th></th><th>It's complicated</th><th>No</th><th>Yes</th><th>total</th></tr><tr><td>No</td><td>1</td><td>12</td><td>11</td><td>24</td></tr><tr><td>Not sure</td><td>1</td><td>5</td><td>7</td><td>13</td></tr><tr><td>Yes</td><td>6</td><td>4</td><td>43</td><td>53</td></tr><tr><td></td><td>8</td><td>21</td><td>61</td><td>90</td></tr></table>"
      ],
      "text/plain": [
       "<IPython.core.display.HTML object>"
      ]
     },
     "execution_count": 24,
     "metadata": {},
     "output_type": "execute_result"
    }
   ],
   "source": [
    "q1, q2 = (7, 8)\n",
    "col1 = 'Q{}_Response'.format(q1)\n",
    "col2 = 'Q{}_Response'.format(q2)\n",
    "columns = (col1, col2)\n",
    "\n",
    "table = columns_contingency_table(hs, columns, multiple_choice=[0, 0])\n",
    "print cramers_v(table)\n",
    "HTML(contingency_table(table))"
   ]
  },
  {
   "cell_type": "code",
   "execution_count": 25,
   "metadata": {
    "collapsed": false
   },
   "outputs": [],
   "source": [
    "# Non-Response Bias\n",
    "# Do the non-responding high schools all share some attribute or \n",
    "# tendency that, without their presence, introduces a bias in our results?\n"
   ]
  },
  {
   "cell_type": "code",
   "execution_count": 26,
   "metadata": {
    "collapsed": false
   },
   "outputs": [
    {
     "name": "stdout",
     "output_type": "stream",
     "text": [
      "Schools in the \"expense per pupil\" list, but not in the survey:\n",
      "\t122\n"
     ]
    }
   ],
   "source": [
    "def double_histogram(sample1, sample2, bins=None, labels=None, title=None):\n",
    "    \n",
    "    fig, ax = plt.subplots()\n",
    "    \n",
    "    if bins is not None:\n",
    "        try:\n",
    "            bins1 = bins[0]\n",
    "            bins2 = bins[1]\n",
    "        except:\n",
    "            bins1 = bins\n",
    "            bins2 = bins\n",
    "    else:\n",
    "        bins1 = 10\n",
    "        bins2 = 10\n",
    "        \n",
    "    if labels is not None:\n",
    "        label1 = labels[0]\n",
    "        label2 = labels[1]\n",
    "    else:\n",
    "        label1 = None\n",
    "        label2 = None\n",
    "\n",
    "    ax.hist(sample1, bins=bins1, alpha=0.5, label=label1)\n",
    "    ax.hist(sample2, bins=bins2, alpha=0.5, label=label2)\n",
    "    \n",
    "    if title is not None:\n",
    "        plt.title(title)\n",
    "\n",
    "    plt.ylabel('Number of Schools')\n",
    "    plt.legend()\n",
    "    plt.show()\n",
    "    \n",
    "def sample_power_difftest(d, s, power=0.8, sig=0.05):\n",
    "    z = ss.norm.isf([sig/2])\n",
    "    zp = -1 * ss.norm.isf([power])\n",
    "    n = (2*(s**2)) * ((zp + z)**2) / (d**2)\n",
    "    return int(round(n[0]))\n",
    "    \n",
    "\n",
    "answer_sau = set(ans.SAU.tolist())\n",
    "ppe_sau = set(ppe.SAU.tolist())\n",
    "print 'Schools in the \"expense per pupil\" list, but not in the survey:'\n",
    "print '\\t', len(sorted(list(ppe_sau - answer_sau)))\n",
    "\n",
    "\n",
    "\n",
    "\n"
   ]
  },
  {
   "cell_type": "code",
   "execution_count": 35,
   "metadata": {
    "collapsed": false
   },
   "outputs": [],
   "source": [
    "# - S-T ratio\n",
    "def assess_sample_differences(test_df, test_field, groups_names=None, group_field='School', title=None):\n",
    "    \n",
    "    \n",
    "    # if no list of group_names is supplied, then don't filter down the test_ids\n",
    "    if groups_names is None:\n",
    "        answer_ids = ans[group_field].unique().tolist()\n",
    "        test_ids = test_df[group_field].unique().tolist()\n",
    "    else:\n",
    "        answer_ids = ans.ix[(ans[group_field].isin(groups_names)), :][group_field].values.flatten()\n",
    "        test_ids = test_df.ix[(test_df[group_field].isin(groups_names)), :][group_field].values.flatten()\n",
    "    # non-respondents are those who are in the test list, but not in the respondents list\n",
    "    non_resp = sorted(list(set(test_ids) - set(answer_ids)))\n",
    "    # respondents are those in the test list, but non in the non-response list\n",
    "    # this is so that we don't count schools that are not in the test list at all\n",
    "    resp = sorted(list(set(test_ids) - set(non_resp)))\n",
    "\n",
    "    sample1 = test_df.ix[\n",
    "        (test_df[group_field].isin(resp)) &\n",
    "        (test_df[test_field].notnull()), \n",
    "        [test_field]].values.flatten()\n",
    "\n",
    "    sample2 = test_df.ix[\n",
    "        (test_df[group_field].isin(non_resp)) &\n",
    "        (test_df[test_field].notnull()), \n",
    "        [test_field]].values.flatten()\n",
    "\n",
    "    effect_size = cohens_d(\n",
    "        means=(sample1.mean(), sample2.mean()),\n",
    "        stdevs=(sample1.std(), sample2.std()),\n",
    "        N_samples=(len(sample1), len(sample2))\n",
    "    )\n",
    "\n",
    "    print 'Effect size:', effect_size\n",
    "    z_stat, p_val = ss.ranksums(sample1, sample2)  \n",
    "    print 'p-value:', p_val\n",
    "\n",
    "    d = sample1.mean() - sample2.mean()\n",
    "    s = sample1.std()\n",
    "    required_N = sample_power_difftest(effect_size, s, power=0.8, sig=0.05)\n",
    "    print '# samples needed: {0}, # non-respoding: {1}, # responding: {2}'.\\\n",
    "    format(required_N, len(non_resp), len(resp))\n",
    "    \n",
    "    double_histogram(sample1, sample2, bins=10, labels=['Respondents', 'Non-respondents'], title=title)\n",
    "    "
   ]
  },
  {
   "cell_type": "code",
   "execution_count": 36,
   "metadata": {
    "collapsed": false,
    "scrolled": false
   },
   "outputs": [
    {
     "name": "stdout",
     "output_type": "stream",
     "text": [
      "Effect size: 0.192921590713\n",
      "p-value: 0.387881999634\n",
      "# samples needed: 1631, # non-respoding: 32, # responding: 89\n"
     ]
    },
    {
     "data": {
      "image/png": "[encoded data removed]",
      "text/plain": [
       "<matplotlib.figure.Figure at 0x7fdb6540e350>"
      ]
     },
     "metadata": {},
     "output_type": "display_data"
    },
    {
     "name": "stdout",
     "output_type": "stream",
     "text": [
      "Effect size: 0.137337596721\n",
      "p-value: 0.354069421774\n",
      "# samples needed: 3301, # non-respoding: 321, # responding: 135\n"
     ]
    },
    {
     "data": {
      "image/png": "[encoded data removed]",
      "text/plain": [
       "<matplotlib.figure.Figure at 0x7fdb65b8afd0>"
      ]
     },
     "metadata": {},
     "output_type": "display_data"
    }
   ],
   "source": [
    "# - Student-teacher ratio\n",
    "assess_sample_differences(copy.copy(teach), 'st_ratio', groups_names=high_schools, \n",
    "                          title='High School Student-Teacher Ratio')\n",
    "assess_sample_differences(copy.copy(teach), 'st_ratio', groups_names=elementary_only_schools, \n",
    "                          title='Elementary School Student-Teacher Ratio')"
   ]
  },
  {
   "cell_type": "code",
   "execution_count": 37,
   "metadata": {
    "collapsed": false,
    "scrolled": false
   },
   "outputs": [
    {
     "name": "stdout",
     "output_type": "stream",
     "text": [
      "Effect size: -0.0165152233854\n",
      "p-value: 0.872834925343\n",
      "# samples needed: 516089397160, # non-respoding: 122, # responding: 120\n"
     ]
    },
    {
     "data": {
      "image/png": "[encoded data removed]",
      "text/plain": [
       "<matplotlib.figure.Figure at 0x7fdb65851a90>"
      ]
     },
     "metadata": {},
     "output_type": "display_data"
    }
   ],
   "source": [
    "# - Expense per pupil\n",
    "assess_sample_differences(copy.copy(ppe), 'Total_Cost_per_Pupil', groups_names=None, group_field='SAU', \n",
    "                          title='Expenditure per Pupil')"
   ]
  },
  {
   "cell_type": "code",
   "execution_count": 38,
   "metadata": {
    "collapsed": false
   },
   "outputs": [
    {
     "name": "stdout",
     "output_type": "stream",
     "text": [
      "Effect size: 0.0241427067736\n",
      "p-value: 0.830285753858\n",
      "# samples needed: 7548701, # non-respoding: 82, # responding: 127\n"
     ]
    },
    {
     "data": {
      "image/png": "[encoded data removed]",
      "text/plain": [
       "<matplotlib.figure.Figure at 0x7fdb657da0d0>"
      ]
     },
     "metadata": {},
     "output_type": "display_data"
    }
   ],
   "source": [
    "# - Free / reduced price lunch\n",
    "assess_sample_differences(copy.copy(lunch), 'Percent Eligible', groups_names=None, group_field='SAU', \n",
    "                          title='Percent of Students with Free / Reduced Lunch')"
   ]
  },
  {
   "cell_type": "code",
   "execution_count": 39,
   "metadata": {
    "collapsed": false
   },
   "outputs": [
    {
     "name": "stdout",
     "output_type": "stream",
     "text": [
      "Effect size: 0.0241427067736\n",
      "p-value: 0.830285753858\n",
      "7548701 82\n"
     ]
    },
    {
     "data": {
      "image/png": "[encoded data removed]",
      "text/plain": [
       "<matplotlib.figure.Figure at 0x7fdb67e71e10>"
      ]
     },
     "metadata": {},
     "output_type": "display_data"
    }
   ],
   "source": [
    "\n",
    "test_df = copy.copy(lunch)\n",
    "test_field = 'Percent Eligible'\n",
    "answer_sau = set(ans.SAU.tolist())\n",
    "test_sau = set(test_df.SAU.tolist())\n",
    "# non-respondents are those who are in the test list, but not in the respondents list\n",
    "non_resp = sorted(list(test_sau - answer_sau))\n",
    "# respondents are those in the test list, but non in the non-response list\n",
    "# this is so that we don't count schools that are not in the test list at all\n",
    "resp = sorted(list(test_sau - set(non_resp)))\n",
    "\n",
    "sample1 = test_df.ix[\n",
    "    (test_df['SAU'].isin(resp)) &\n",
    "    (test_df[test_field].notnull()), \n",
    "    [test_field]].values\n",
    "\n",
    "sample2 = test_df.ix[\n",
    "    (test_df['SAU'].isin(non_resp)) &\n",
    "    (test_df[test_field].notnull()), \n",
    "    [test_field]].values\n",
    "\n",
    "effect_size = cohens_d(\n",
    "    means=(sample1.mean(), sample2.mean()),\n",
    "    stdevs=(sample1.std(), sample2.std()),\n",
    "    N_samples=(len(sample1), len(sample2))\n",
    ")\n",
    "\n",
    "print 'Effect size:', effect_size\n",
    "z_stat, p_val = ss.ranksums(sample1, sample2)  \n",
    "print 'p-value:', p_val\n",
    "\n",
    "d = sample1.mean() - sample2.mean()\n",
    "s = sample1.std()\n",
    "required_N = sample_power_difftest(effect_size, s, power=0.8, sig=0.05)\n",
    "print required_N, len(non_resp)\n",
    "\n",
    "double_histogram(sample1, sample2, bins=10, labels=['Sample 1', 'Sample 2'])"
   ]
  },
  {
   "cell_type": "code",
   "execution_count": 40,
   "metadata": {
    "collapsed": false
   },
   "outputs": [
    {
     "name": "stdout",
     "output_type": "stream",
     "text": [
      "Effect size: -0.287930148185\n",
      "p-value: 0.178957871504\n"
     ]
    },
    {
     "data": {
      "image/png": "[encoded data removed]",
      "text/plain": [
       "<matplotlib.figure.Figure at 0x7fdb653900d0>"
      ]
     },
     "metadata": {},
     "output_type": "display_data"
    }
   ],
   "source": [
    "# - Graduation rates (this list only contains the HIGH SCHOOLS)\n",
    "answer_sau = set(ans.SAU.tolist())\n",
    "grad_sau = set(grad.SAU.tolist())\n",
    "non_resp_grad = sorted(list(grad_sau - answer_sau))\n",
    "resp_grad = sorted(list(grad_sau - set(non_resp_grad)))\n",
    "sample1 = grad.ix[\n",
    "    (grad['SAU'].isin(resp_grad)) &\n",
    "    (grad['Graduation Rate'].notnull()), \n",
    "    ['Graduation Rate']].values\n",
    "\n",
    "sample2 = grad.ix[\n",
    "    (grad['SAU'].isin(non_resp_grad)) &\n",
    "    (grad['Graduation Rate'].notnull()), \n",
    "    ['Graduation Rate']].values\n",
    "\n",
    "effect_size = cohens_d(\n",
    "    means=(sample1.mean(), sample2.mean()),\n",
    "    stdevs=(sample2.std(), sample2.std()),\n",
    "    N_samples=(len(sample1), len(sample2))\n",
    ")\n",
    "\n",
    "print 'Effect size:', effect_size\n",
    "z_stat, p_val = ss.ranksums(sample1, sample2)  \n",
    "print 'p-value:', p_val\n",
    "\n",
    "double_histogram(sample1, sample2, bins=10, labels=None)"
   ]
  },
  {
   "cell_type": "code",
   "execution_count": 41,
   "metadata": {
    "collapsed": false
   },
   "outputs": [
    {
     "name": "stdout",
     "output_type": "stream",
     "text": [
      "0.19333158353\n"
     ]
    },
    {
     "data": {
      "text/html": [
       "<table><tr><th></th><th>No our school has not received support from our local Healthy Maine Partnership or another local resource.</th><th>Yes our school has received support from another local resource. (Please specify below.)</th><th>Yes our school has received support from our local Healthy Maine Partnership.</th><th>total</th></tr><tr><td>Activities around Red Ribbon Week</td><td>4</td><td>0</td><td>14</td><td>18</td></tr><tr><td>Any additional prevention program such as LifeSkills Training or Prime For Life</td><td>0</td><td>1</td><td>10</td><td>11</td></tr><tr><td>D.A.R.E. program</td><td>1</td><td>1</td><td>5</td><td>7</td></tr><tr><td>Health class curriculum or lessons woven into other classes</td><td>30</td><td>5</td><td>46</td><td>81</td></tr><tr><td>No substance use prevention programs or activities take place at my school</td><td>2</td><td>0</td><td>2</td><td>4</td></tr><tr><td>Peer mentoring program(s)</td><td>0</td><td>0</td><td>0</td><td>0</td></tr><tr><td>Prevention events targeted at students such as assemblies</td><td>15</td><td>1</td><td>35</td><td>51</td></tr><tr><td></td><td>52</td><td>8</td><td>112</td><td>172</td></tr></table>"
      ],
      "text/plain": [
       "<IPython.core.display.HTML object>"
      ]
     },
     "execution_count": 41,
     "metadata": {},
     "output_type": "execute_result"
    }
   ],
   "source": [
    "# Of schools that have 6 or more drug-related incidents in the past year, \n",
    "# what percentage of them have a point person more than 25% of the time?\n",
    "\n",
    "# columns = ('Q3_Response', 'st_ratio')\n",
    "# values = hs.ix[(hs['st_ratio'].notnull())]['st_ratio'].values\n",
    "# hist, bin_edges = np.histogram(values, bins=8)\n",
    "# bins = [(bin_edges[i], bin_edges[i+1]) for i in range(len(bin_edges)-1)]\n",
    "# labels = ['{0:1.0f}-{1:1.0f}'.format(b[0], b[1]) for b in bins]\n",
    "\n",
    "# ranges = {'st_ratio': {'bins': bins, 'labels': labels}}\n",
    "\n",
    "# st_table = columns_contingency_table(hs, columns, ranges=ranges)\n",
    "\n",
    "# print cramers_v(st_table)\n",
    "# HTML(contingency_table(st_table))\n",
    "\n",
    "#######\n",
    "q1, q2 = (14, 12)\n",
    "col1 = 'Q{}_Response'.format(q1)\n",
    "col2 = 'Q{}_Response'.format(q2)\n",
    "columns = (col1, col2)\n",
    "\n",
    "table = columns_contingency_table(hs, columns, multiple_choice=[1, 0])\n",
    "print cramers_v(table)\n",
    "HTML(contingency_table(table))\n",
    "\n",
    "\n"
   ]
  },
  {
   "cell_type": "code",
   "execution_count": 42,
   "metadata": {
    "collapsed": true
   },
   "outputs": [],
   "source": [
    "def compare_county_samples(df, col_name):\n",
    "    south = ['Androscoggin', 'Cumberland', 'Kennebec', 'Sagadahoc', 'York']\n",
    "    sample1 = df.ix[\n",
    "        (df['county'].isin(south)), \n",
    "        [col_name]].values\n",
    "\n",
    "    sample2 = df.ix[\n",
    "        (~df['county'].isin(south)), \n",
    "        [col_name]].values\n",
    "    \n",
    "    effect_size = cohens_d(\n",
    "        means=(sample1.mean(), sample2.mean()),\n",
    "        stdevs=(sample1.std(), sample2.std()),\n",
    "        N_samples=(len(sample1), len(sample2))\n",
    "    )\n",
    "\n",
    "    print 'Effect size:', effect_size\n",
    "    z_stat, p_val = ss.ranksums(sample1, sample2)  \n",
    "    print 'p-value:', p_val\n",
    "    \n",
    "    double_histogram(sample1, sample2, bins=5, labels=['Southern', 'Northern'])\n",
    "    "
   ]
  },
  {
   "cell_type": "code",
   "execution_count": 43,
   "metadata": {
    "collapsed": false
   },
   "outputs": [
    {
     "name": "stdout",
     "output_type": "stream",
     "text": [
      "0.328767831204\n"
     ]
    },
    {
     "data": {
      "text/html": [
       "<table><tr><th></th><th>No our school has not received support from our local Healthy Maine Partnership or another local resource.</th><th>Yes our school has received support from another local resource. (Please specify below.)</th><th>Yes our school has received support from our local Healthy Maine Partnership.</th><th>total</th></tr><tr><td>Androscoggin</td><td>7</td><td>1</td><td>1</td><td>9</td></tr><tr><td>Aroostook</td><td>13</td><td>1</td><td>10</td><td>24</td></tr><tr><td>Cumberland</td><td>8</td><td>6</td><td>14</td><td>28</td></tr><tr><td>Franklin</td><td>0</td><td>1</td><td>3</td><td>4</td></tr><tr><td>Hancock</td><td>3</td><td>0</td><td>7</td><td>10</td></tr><tr><td>Kennebec</td><td>7</td><td>0</td><td>8</td><td>15</td></tr><tr><td>Knox</td><td>1</td><td>1</td><td>0</td><td>2</td></tr><tr><td>Lincoln</td><td>4</td><td>0</td><td>5</td><td>9</td></tr><tr><td>Oxford</td><td>9</td><td>1</td><td>4</td><td>14</td></tr><tr><td>Penobscot</td><td>14</td><td>0</td><td>20</td><td>34</td></tr><tr><td>Piscataquis</td><td>1</td><td>0</td><td>3</td><td>4</td></tr><tr><td>Sagadahoc</td><td>4</td><td>0</td><td>5</td><td>9</td></tr><tr><td>Somerset</td><td>3</td><td>1</td><td>7</td><td>11</td></tr><tr><td>Waldo</td><td>7</td><td>0</td><td>4</td><td>11</td></tr><tr><td>Washington</td><td>1</td><td>1</td><td>9</td><td>11</td></tr><tr><td>York</td><td>12</td><td>2</td><td>11</td><td>25</td></tr><tr><td></td><td>94</td><td>15</td><td>111</td><td>220</td></tr></table>"
      ],
      "text/plain": [
       "<IPython.core.display.HTML object>"
      ]
     },
     "execution_count": 43,
     "metadata": {},
     "output_type": "execute_result"
    }
   ],
   "source": [
    "# Geographic tables\n",
    "# -- the school's use of Healthy Maine Partnerships (Q12)\n",
    "col2 = 'Q12_Response'\n",
    "col1 = 'COUNTY'\n",
    "columns = (col1, col2)\n",
    "\n",
    "table = columns_contingency_table(df, columns, multiple_choice=[0, 0])\n",
    "print cramers_v(table)\n",
    "HTML(contingency_table(table))"
   ]
  },
  {
   "cell_type": "code",
   "execution_count": 44,
   "metadata": {
    "collapsed": false
   },
   "outputs": [
    {
     "name": "stdout",
     "output_type": "stream",
     "text": [
      "Effect size: -0.489117320623\n",
      "p-value: 0.268381627293\n"
     ]
    },
    {
     "data": {
      "image/png": "[encoded data removed]",
      "text/plain": [
       "<matplotlib.figure.Figure at 0x7fdb68233450>"
      ]
     },
     "metadata": {},
     "output_type": "display_data"
    }
   ],
   "source": [
    "q12 = pd.DataFrame.from_records(table[1:], columns=['county', 'no', 'other', 'yes', 'total'])\n",
    "q12['ratio'] = q12['yes'] / q12['total']\n",
    "compare_county_samples(q12, 'ratio')\n"
   ]
  },
  {
   "cell_type": "code",
   "execution_count": 45,
   "metadata": {
    "collapsed": false
   },
   "outputs": [
    {
     "name": "stdout",
     "output_type": "stream",
     "text": [
      "0.318179895155\n"
     ]
    },
    {
     "data": {
      "text/html": [
       "<table><tr><th></th><th>It's complicated (explain below)</th><th>No</th><th>Yes</th><th>total</th></tr><tr><td>Androscoggin</td><td>2</td><td>4</td><td>3</td><td>9</td></tr><tr><td>Aroostook</td><td>3</td><td>3</td><td>19</td><td>25</td></tr><tr><td>Cumberland</td><td>8</td><td>10</td><td>10</td><td>28</td></tr><tr><td>Franklin</td><td>0</td><td>1</td><td>4</td><td>5</td></tr><tr><td>Hancock</td><td>1</td><td>3</td><td>6</td><td>10</td></tr><tr><td>Kennebec</td><td>2</td><td>4</td><td>9</td><td>15</td></tr><tr><td>Knox</td><td>0</td><td>0</td><td>2</td><td>2</td></tr><tr><td>Lincoln</td><td>2</td><td>4</td><td>3</td><td>9</td></tr><tr><td>Oxford</td><td>3</td><td>6</td><td>5</td><td>14</td></tr><tr><td>Penobscot</td><td>7</td><td>5</td><td>27</td><td>39</td></tr><tr><td>Piscataquis</td><td>0</td><td>0</td><td>4</td><td>4</td></tr><tr><td>Sagadahoc</td><td>0</td><td>4</td><td>5</td><td>9</td></tr><tr><td>Somerset</td><td>0</td><td>3</td><td>8</td><td>11</td></tr><tr><td>Waldo</td><td>3</td><td>5</td><td>4</td><td>12</td></tr><tr><td>Washington</td><td>0</td><td>0</td><td>11</td><td>11</td></tr><tr><td>York</td><td>1</td><td>7</td><td>18</td><td>26</td></tr><tr><td></td><td>32</td><td>59</td><td>138</td><td>229</td></tr></table>"
      ],
      "text/plain": [
       "<IPython.core.display.HTML object>"
      ]
     },
     "execution_count": 45,
     "metadata": {},
     "output_type": "execute_result"
    }
   ],
   "source": [
    "#-- the school's use of zero tolerance policies (Q6)\n",
    "col2 = 'Q6_Response'\n",
    "col1 = 'COUNTY'\n",
    "columns = (col1, col2)\n",
    "\n",
    "table = columns_contingency_table(df, columns, multiple_choice=[0, 0])\n",
    "print cramers_v(table)\n",
    "HTML(contingency_table(table))"
   ]
  },
  {
   "cell_type": "code",
   "execution_count": 46,
   "metadata": {
    "collapsed": false
   },
   "outputs": [
    {
     "name": "stdout",
     "output_type": "stream",
     "text": [
      "0.268249968718\n"
     ]
    },
    {
     "data": {
      "text/html": [
       "<table><tr><th></th><th>Agree</th><th>Disagree</th><th>Neither agree nor disagree</th><th>Strongly agree</th><th>Strongly disagree</th><th>total</th></tr><tr><td>Androscoggin</td><td>6</td><td>0</td><td>1</td><td>2</td><td>0</td><td>9</td></tr><tr><td>Aroostook</td><td>13</td><td>2</td><td>8</td><td>2</td><td>0</td><td>25</td></tr><tr><td>Cumberland</td><td>8</td><td>10</td><td>5</td><td>4</td><td>1</td><td>28</td></tr><tr><td>Franklin</td><td>4</td><td>0</td><td>0</td><td>1</td><td>0</td><td>5</td></tr><tr><td>Hancock</td><td>6</td><td>0</td><td>1</td><td>3</td><td>0</td><td>10</td></tr><tr><td>Kennebec</td><td>6</td><td>1</td><td>4</td><td>4</td><td>0</td><td>15</td></tr><tr><td>Knox</td><td>0</td><td>0</td><td>1</td><td>1</td><td>0</td><td>2</td></tr><tr><td>Lincoln</td><td>6</td><td>0</td><td>1</td><td>2</td><td>0</td><td>9</td></tr><tr><td>Oxford</td><td>9</td><td>1</td><td>2</td><td>2</td><td>0</td><td>14</td></tr><tr><td>Penobscot</td><td>21</td><td>4</td><td>6</td><td>7</td><td>1</td><td>39</td></tr><tr><td>Piscataquis</td><td>1</td><td>2</td><td>0</td><td>1</td><td>0</td><td>4</td></tr><tr><td>Sagadahoc</td><td>5</td><td>0</td><td>0</td><td>4</td><td>0</td><td>9</td></tr><tr><td>Somerset</td><td>7</td><td>0</td><td>2</td><td>2</td><td>0</td><td>11</td></tr><tr><td>Waldo</td><td>6</td><td>1</td><td>4</td><td>1</td><td>0</td><td>12</td></tr><tr><td>Washington</td><td>5</td><td>0</td><td>1</td><td>5</td><td>0</td><td>11</td></tr><tr><td>York</td><td>10</td><td>5</td><td>4</td><td>7</td><td>0</td><td>26</td></tr><tr><td></td><td>113</td><td>26</td><td>40</td><td>48</td><td>2</td><td>229</td></tr></table>"
      ],
      "text/plain": [
       "<IPython.core.display.HTML object>"
      ]
     },
     "execution_count": 46,
     "metadata": {},
     "output_type": "execute_result"
    }
   ],
   "source": [
    "#-- it's difficult to teach because of hardship (Q2)\n",
    "col2 = 'Q2_Response'\n",
    "col1 = 'COUNTY'\n",
    "columns = (col1, col2)\n",
    "\n",
    "table = columns_contingency_table(df, columns, multiple_choice=[0, 0])\n",
    "print cramers_v(table)\n",
    "HTML(contingency_table(table))"
   ]
  },
  {
   "cell_type": "code",
   "execution_count": 47,
   "metadata": {
    "collapsed": false
   },
   "outputs": [
    {
     "name": "stdout",
     "output_type": "stream",
     "text": [
      "0.267007579612\n"
     ]
    },
    {
     "data": {
      "text/html": [
       "<table><tr><th></th><th>It's complicated</th><th>No</th><th>Yes</th><th>total</th></tr><tr><td>Androscoggin</td><td>0</td><td>9</td><td>0</td><td>9</td></tr><tr><td>Aroostook</td><td>0</td><td>21</td><td>4</td><td>25</td></tr><tr><td>Cumberland</td><td>2</td><td>18</td><td>8</td><td>28</td></tr><tr><td>Franklin</td><td>0</td><td>5</td><td>0</td><td>5</td></tr><tr><td>Hancock</td><td>0</td><td>9</td><td>1</td><td>10</td></tr><tr><td>Kennebec</td><td>0</td><td>12</td><td>3</td><td>15</td></tr><tr><td>Knox</td><td>0</td><td>2</td><td>0</td><td>2</td></tr><tr><td>Lincoln</td><td>0</td><td>7</td><td>2</td><td>9</td></tr><tr><td>Oxford</td><td>1</td><td>10</td><td>3</td><td>14</td></tr><tr><td>Penobscot</td><td>2</td><td>25</td><td>12</td><td>39</td></tr><tr><td>Piscataquis</td><td>0</td><td>4</td><td>0</td><td>4</td></tr><tr><td>Sagadahoc</td><td>1</td><td>6</td><td>2</td><td>9</td></tr><tr><td>Somerset</td><td>0</td><td>7</td><td>4</td><td>11</td></tr><tr><td>Waldo</td><td>0</td><td>7</td><td>5</td><td>12</td></tr><tr><td>Washington</td><td>0</td><td>9</td><td>2</td><td>11</td></tr><tr><td>York</td><td>3</td><td>11</td><td>12</td><td>26</td></tr><tr><td></td><td>9</td><td>162</td><td>58</td><td>229</td></tr></table>"
      ],
      "text/plain": [
       "<IPython.core.display.HTML object>"
      ]
     },
     "execution_count": 47,
     "metadata": {},
     "output_type": "execute_result"
    }
   ],
   "source": [
    "#-- outreach to parents (Q16)\n",
    "col2 = 'Q16_Response'\n",
    "col1 = 'COUNTY'\n",
    "columns = (col1, col2)\n",
    "\n",
    "table = columns_contingency_table(df, columns, multiple_choice=[0, 0])\n",
    "\n",
    "print cramers_v(table)\n",
    "HTML(contingency_table(table))"
   ]
  },
  {
   "cell_type": "code",
   "execution_count": 48,
   "metadata": {
    "collapsed": false
   },
   "outputs": [
    {
     "name": "stdout",
     "output_type": "stream",
     "text": [
      "Effect size: 0.576352966816\n",
      "p-value: 0.493242861139\n"
     ]
    },
    {
     "data": {
      "image/png": "[encoded data removed]",
      "text/plain": [
       "<matplotlib.figure.Figure at 0x7fdb65548a10>"
      ]
     },
     "metadata": {},
     "output_type": "display_data"
    }
   ],
   "source": [
    "q16 = pd.DataFrame.from_records(table[1:], columns=['county', 'complicated', 'no', 'yes', 'total'])\n",
    "q16['ratio'] = q16['yes'] / q16['no']\n",
    "q16\n",
    "compare_county_samples(q16, 'ratio')"
   ]
  },
  {
   "cell_type": "code",
   "execution_count": null,
   "metadata": {
    "collapsed": true
   },
   "outputs": [],
   "source": []
  }
 ],
 "metadata": {
  "kernelspec": {
   "display_name": "Python 2",
   "language": "python",
   "name": "python2"
  },
  "language_info": {
   "codemirror_mode": {
    "name": "ipython",
    "version": 2
   },
   "file_extension": ".py",
   "mimetype": "text/x-python",
   "name": "python",
   "nbconvert_exporter": "python",
   "pygments_lexer": "ipython2",
   "version": "2.7.6"
  }
 },
 "nbformat": 4,
 "nbformat_minor": 1
}
